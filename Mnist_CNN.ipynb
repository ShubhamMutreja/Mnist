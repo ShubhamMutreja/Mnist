{
  "nbformat": 4,
  "nbformat_minor": 0,
  "metadata": {
    "colab": {
      "name": "Untitled0.ipynb",
      "version": "0.3.2",
      "views": {},
      "default_view": {},
      "provenance": []
    },
    "kernelspec": {
      "name": "python3",
      "display_name": "Python 3"
    },
    "accelerator": "GPU"
  },
  "cells": [
    {
      "metadata": {
        "id": "oeLTKt0qZARR",
        "colab_type": "code",
        "colab": {
          "autoexec": {
            "startup": false,
            "wait_interval": 0
          },
          "base_uri": "https://localhost:8080/",
          "height": 34
        },
        "outputId": "54c4b5da-0f35-4cf4-bf0d-fdc24688d70c",
        "executionInfo": {
          "status": "ok",
          "timestamp": 1530771283947,
          "user_tz": -330,
          "elapsed": 1894,
          "user": {
            "displayName": "FreemanFromBlackMesa AKAShubham",
            "photoUrl": "//lh5.googleusercontent.com/-yNKOtf2gr_U/AAAAAAAAAAI/AAAAAAAAAFQ/V4yjcKFOY8o/s50-c-k-no/photo.jpg",
            "userId": "106981557889178357250"
          }
        }
      },
      "cell_type": "code",
      "source": [
        "import numpy as np\n",
        "import pandas as pd\n",
        "import keras\n",
        "\n",
        "import matplotlib.pyplot as plt\n",
        "%matplotlib inline\n",
        "\n",
        "from sklearn.utils import shuffle\n",
        "\n",
        "\n",
        "from keras.models import Sequential\n",
        "from keras.layers import Dense, Dropout, Activation, Flatten , Conv2D, MaxPooling2D, ZeroPadding2D, GlobalAveragePooling2D\n",
        "from keras.optimizers import Adam\n",
        "from keras.layers.normalization import BatchNormalization\n",
        "from keras.utils import np_utils\n",
        "from keras.layers.advanced_activations import LeakyReLU \n",
        "from keras.preprocessing.image import ImageDataGenerator\n",
        "\n",
        "from keras import backend as K\n",
        "K.tensorflow_backend._get_available_gpus()"
      ],
      "execution_count": 33,
      "outputs": [
        {
          "output_type": "execute_result",
          "data": {
            "text/plain": [
              "['/job:localhost/replica:0/task:0/device:GPU:0']"
            ]
          },
          "metadata": {
            "tags": []
          },
          "execution_count": 33
        }
      ]
    },
    {
      "metadata": {
        "id": "f_czPB2ebTyK",
        "colab_type": "code",
        "colab": {
          "autoexec": {
            "startup": false,
            "wait_interval": 0
          }
        }
      },
      "cell_type": "code",
      "source": [
        "Data_train = pd.read_csv('https://pjreddie.com/media/files/mnist_train.csv')\n",
        "Data_test  = pd.read_csv('https://pjreddie.com/media/files/mnist_test.csv')"
      ],
      "execution_count": 0,
      "outputs": []
    },
    {
      "metadata": {
        "id": "7eX0sRCQcSMZ",
        "colab_type": "code",
        "colab": {
          "autoexec": {
            "startup": false,
            "wait_interval": 0
          },
          "base_uri": "https://localhost:8080/",
          "height": 34
        },
        "outputId": "20ddcef5-9f7b-4451-9217-9265102a2e2f",
        "executionInfo": {
          "status": "ok",
          "timestamp": 1530771472782,
          "user_tz": -330,
          "elapsed": 2136,
          "user": {
            "displayName": "FreemanFromBlackMesa AKAShubham",
            "photoUrl": "//lh5.googleusercontent.com/-yNKOtf2gr_U/AAAAAAAAAAI/AAAAAAAAAFQ/V4yjcKFOY8o/s50-c-k-no/photo.jpg",
            "userId": "106981557889178357250"
          }
        }
      },
      "cell_type": "code",
      "source": [
        "Dtrain = Data_train.values[:]\n",
        "Dtest  = Data_test.values[:]\n",
        "\n",
        "print(Dtrain.shape , Dtest.shape)"
      ],
      "execution_count": 43,
      "outputs": [
        {
          "output_type": "stream",
          "text": [
            "(59999, 785) (9999, 785)\n"
          ],
          "name": "stdout"
        }
      ]
    },
    {
      "metadata": {
        "id": "-9KsiAXxcqp9",
        "colab_type": "code",
        "colab": {
          "autoexec": {
            "startup": false,
            "wait_interval": 0
          }
        }
      },
      "cell_type": "code",
      "source": [
        "Dtrain = shuffle(Dtrain, random_state = 42)\n",
        "Dtest  = shuffle(Dtest,  random_state = 42)\n",
        "\n",
        "x_train = Dtrain[:,:-1]/255\n",
        "y_train = Dtrain[:,0]/255\n",
        "\n",
        "x_test  = Dtest[:,:-1]/255\n",
        "y_test  = Dtest[:,0]/255"
      ],
      "execution_count": 0,
      "outputs": []
    },
    {
      "metadata": {
        "id": "nvLYrXvhdtRx",
        "colab_type": "code",
        "colab": {
          "autoexec": {
            "startup": false,
            "wait_interval": 0
          },
          "base_uri": "https://localhost:8080/",
          "height": 52
        },
        "outputId": "25f8ddff-024e-435b-c6de-fe72d9d5b387",
        "executionInfo": {
          "status": "ok",
          "timestamp": 1530771303619,
          "user_tz": -330,
          "elapsed": 1657,
          "user": {
            "displayName": "FreemanFromBlackMesa AKAShubham",
            "photoUrl": "//lh5.googleusercontent.com/-yNKOtf2gr_U/AAAAAAAAAAI/AAAAAAAAAFQ/V4yjcKFOY8o/s50-c-k-no/photo.jpg",
            "userId": "106981557889178357250"
          }
        }
      },
      "cell_type": "code",
      "source": [
        "Y_train = keras.utils.to_categorical(y_train, 10)\n",
        "Y_test = keras.utils.to_categorical(y_test, 10)\n",
        "\n",
        " \n",
        "X_train = x_train.reshape(x_train.shape[0], 28, 28,1)\n",
        "X_test = x_test.reshape(x_test.shape[0], 28, 28,1) \n",
        "print(Y_train.shape)\n",
        "print(X_train.shape)\n",
        "\n"
      ],
      "execution_count": 37,
      "outputs": [
        {
          "output_type": "stream",
          "text": [
            "(59999, 10)\n",
            "(59999, 28, 28, 1)\n"
          ],
          "name": "stdout"
        }
      ]
    },
    {
      "metadata": {
        "id": "Pi5JxUJPhYbQ",
        "colab_type": "code",
        "colab": {
          "autoexec": {
            "startup": false,
            "wait_interval": 0
          }
        }
      },
      "cell_type": "code",
      "source": [
        "model = Sequential()\n",
        "\n",
        "model.add(Conv2D(32,(3,3), input_shape = (28,28,1)))\n",
        "model.add(BatchNormalization(axis = -1))\n",
        "model.add(Activation('relu'))\n",
        "model.add(Conv2D(32,(3,3)))\n",
        "model.add(BatchNormalization(axis = -1))\n",
        "model.add(Activation('relu'))\n",
        "model.add(MaxPooling2D(pool_size=(2,2)))\n",
        "\n",
        "\n",
        "model.add(Conv2D(32,(3,3)))\n",
        "model.add(BatchNormalization(axis = -1))\n",
        "model.add(Activation('relu'))\n",
        "model.add(Conv2D(32,(3,3)))\n",
        "model.add(BatchNormalization(axis = -1))\n",
        "model.add(Activation('relu'))\n",
        "model.add(MaxPooling2D(pool_size=(2,2)))\n",
        "\n",
        "model.add(Flatten())\n",
        "\n",
        "model.add(Dense(64))\n",
        "model.add(BatchNormalization())\n",
        "model.add(Activation('relu'))\n",
        "model.add(Dropout(0.35))\n",
        "model.add(Dense(10))\n",
        "model.add(Activation('softmax'))"
      ],
      "execution_count": 0,
      "outputs": []
    },
    {
      "metadata": {
        "id": "rU8h4lbyi7dx",
        "colab_type": "code",
        "colab": {
          "autoexec": {
            "startup": false,
            "wait_interval": 0
          }
        }
      },
      "cell_type": "code",
      "source": [
        "model.compile(loss = 'categorical_crossentropy' , metrics=['accuracy'] , optimizer=Adam())"
      ],
      "execution_count": 0,
      "outputs": []
    },
    {
      "metadata": {
        "id": "7CHNd6aUkI9j",
        "colab_type": "code",
        "colab": {
          "autoexec": {
            "startup": false,
            "wait_interval": 0
          }
        }
      },
      "cell_type": "code",
      "source": [
        "Gen = ImageDataGenerator(rotation_range=12, width_shift_range=0.12, shear_range=0.8,\n",
        "                         height_shift_range=0.12, zoom_range=0.12)\n",
        "\n",
        "test_gen = ImageDataGenerator()"
      ],
      "execution_count": 0,
      "outputs": []
    },
    {
      "metadata": {
        "id": "8twP33SFe4yj",
        "colab_type": "code",
        "colab": {
          "autoexec": {
            "startup": false,
            "wait_interval": 0
          }
        }
      },
      "cell_type": "code",
      "source": [
        "train_gen = Gen.flow(X_train , Y_train , batch_size= 512)\n",
        "test_ge   = test_gen.flow(X_test , Y_test , batch_size= 512)"
      ],
      "execution_count": 0,
      "outputs": []
    },
    {
      "metadata": {
        "id": "a2hZp_-Xfdj2",
        "colab_type": "code",
        "colab": {
          "autoexec": {
            "startup": false,
            "wait_interval": 0
          },
          "base_uri": "https://localhost:8080/",
          "height": 758
        },
        "outputId": "adf4522f-3635-4d56-e3d8-6ff3f2d1ca7c",
        "executionInfo": {
          "status": "ok",
          "timestamp": 1530775216692,
          "user_tz": -330,
          "elapsed": 32755,
          "user": {
            "displayName": "FreemanFromBlackMesa AKAShubham",
            "photoUrl": "//lh5.googleusercontent.com/-yNKOtf2gr_U/AAAAAAAAAAI/AAAAAAAAAFQ/V4yjcKFOY8o/s50-c-k-no/photo.jpg",
            "userId": "106981557889178357250"
          }
        }
      },
      "cell_type": "code",
      "source": [
        "model.fit_generator(train_gen , steps_per_epoch=5 , validation_data= (test_ge) , epochs = 20)"
      ],
      "execution_count": 69,
      "outputs": [
        {
          "output_type": "stream",
          "text": [
            "Epoch 1/20\n",
            "5/5 [==============================] - 4s 793ms/step - loss: 2.9123 - acc: 0.0492 - val_loss: 2.3358 - val_acc: 0.1171\n",
            "Epoch 2/20\n",
            "5/5 [==============================] - 1s 247ms/step - loss: 2.5904 - acc: 0.1023 - val_loss: 1.7151 - val_acc: 0.3786\n",
            "Epoch 3/20\n",
            "5/5 [==============================] - 1s 236ms/step - loss: 2.2792 - acc: 0.1617 - val_loss: 1.3587 - val_acc: 0.4927\n",
            "Epoch 4/20\n",
            "5/5 [==============================] - 1s 227ms/step - loss: 1.9734 - acc: 0.2820 - val_loss: 1.1430 - val_acc: 0.5733\n",
            "Epoch 5/20\n",
            "5/5 [==============================] - 1s 261ms/step - loss: 1.7034 - acc: 0.3914 - val_loss: 0.8069 - val_acc: 0.7926\n",
            "Epoch 6/20\n",
            "5/5 [==============================] - 1s 240ms/step - loss: 1.4642 - acc: 0.5211 - val_loss: 0.5578 - val_acc: 0.9299\n",
            "Epoch 7/20\n",
            "5/5 [==============================] - 1s 253ms/step - loss: 1.2353 - acc: 0.6645 - val_loss: 0.3534 - val_acc: 0.9922\n",
            "Epoch 8/20\n",
            "5/5 [==============================] - 1s 241ms/step - loss: 1.0630 - acc: 0.7590 - val_loss: 0.2421 - val_acc: 0.9992\n",
            "Epoch 9/20\n",
            "5/5 [==============================] - 1s 271ms/step - loss: 0.8938 - acc: 0.8441 - val_loss: 0.1965 - val_acc: 0.9999\n",
            "Epoch 10/20\n",
            "5/5 [==============================] - 1s 266ms/step - loss: 0.7439 - acc: 0.9039 - val_loss: 0.1958 - val_acc: 1.0000\n",
            "Epoch 11/20\n",
            "5/5 [==============================] - 1s 258ms/step - loss: 0.6239 - acc: 0.9465 - val_loss: 0.1976 - val_acc: 1.0000\n",
            "Epoch 12/20\n",
            "5/5 [==============================] - 1s 286ms/step - loss: 0.5175 - acc: 0.9652 - val_loss: 0.1696 - val_acc: 1.0000\n",
            "Epoch 13/20\n",
            "5/5 [==============================] - 1s 265ms/step - loss: 0.4520 - acc: 0.9801 - val_loss: 0.1410 - val_acc: 1.0000\n",
            "Epoch 14/20\n",
            "5/5 [==============================] - 1s 281ms/step - loss: 0.3890 - acc: 0.9828 - val_loss: 0.1451 - val_acc: 1.0000\n",
            "Epoch 15/20\n",
            "5/5 [==============================] - 1s 262ms/step - loss: 0.3389 - acc: 0.9906 - val_loss: 0.1464 - val_acc: 1.0000\n",
            "Epoch 16/20\n",
            "5/5 [==============================] - 1s 257ms/step - loss: 0.2928 - acc: 0.9934 - val_loss: 0.1339 - val_acc: 1.0000\n",
            "Epoch 17/20\n",
            "5/5 [==============================] - 1s 260ms/step - loss: 0.2593 - acc: 0.9957 - val_loss: 0.1222 - val_acc: 1.0000\n",
            "Epoch 18/20\n",
            "1/5 [=====>........................] - ETA: 0s - loss: 0.2412 - acc: 0.9980"
          ],
          "name": "stdout"
        },
        {
          "output_type": "stream",
          "text": [
            "5/5 [==============================] - 1s 284ms/step - loss: 0.2263 - acc: 0.9969 - val_loss: 0.1104 - val_acc: 1.0000\n",
            "Epoch 19/20\n",
            "5/5 [==============================] - 1s 234ms/step - loss: 0.2076 - acc: 0.9988 - val_loss: 0.1014 - val_acc: 1.0000\n",
            "Epoch 20/20\n",
            "5/5 [==============================] - 1s 275ms/step - loss: 0.1852 - acc: 0.9992 - val_loss: 0.0925 - val_acc: 1.0000\n"
          ],
          "name": "stdout"
        },
        {
          "output_type": "execute_result",
          "data": {
            "text/plain": [
              "<keras.callbacks.History at 0x7fd4755ef0f0>"
            ]
          },
          "metadata": {
            "tags": []
          },
          "execution_count": 69
        }
      ]
    }
  ]
}